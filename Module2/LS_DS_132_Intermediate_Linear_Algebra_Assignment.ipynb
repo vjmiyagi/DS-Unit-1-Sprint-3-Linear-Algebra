{
  "nbformat": 4,
  "nbformat_minor": 0,
  "metadata": {
    "colab": {
      "name": "LS_DS_132_Intermediate_Linear_Algebra_Assignment.ipynb",
      "provenance": [],
      "collapsed_sections": [],
      "include_colab_link": true
    },
    "kernelspec": {
      "name": "python3",
      "display_name": "Python 3"
    }
  },
  "cells": [
    {
      "cell_type": "markdown",
      "metadata": {
        "id": "view-in-github",
        "colab_type": "text"
      },
      "source": [
        "<a href=\"https://colab.research.google.com/github/vjmiyagi/DS-Unit-1-Sprint-3-Linear-Algebra/blob/master/Module2/LS_DS_132_Intermediate_Linear_Algebra_Assignment.ipynb\" target=\"_parent\"><img src=\"https://colab.research.google.com/assets/colab-badge.svg\" alt=\"Open In Colab\"/></a>"
      ]
    },
    {
      "cell_type": "markdown",
      "metadata": {
        "id": "GSNiYn8lr6nN",
        "colab_type": "text"
      },
      "source": [
        "# Statistics"
      ]
    },
    {
      "cell_type": "markdown",
      "metadata": {
        "id": "3d4izUhQvh2_",
        "colab_type": "text"
      },
      "source": [
        "## 1.1 Sales for the past week was the following amounts: [3505, 2400, 3027, 2798, 3700, 3250, 2689]. Without using library functions, what is the mean, variance, and standard deviation of of sales from last week? (for extra bonus points, write your own function that can calculate these two values for any sized list)"
      ]
    },
    {
      "cell_type": "code",
      "metadata": {
        "id": "w1iZfYvBtEA1",
        "colab_type": "code",
        "colab": {}
      },
      "source": [
        "# Imports\n",
        "import math\n",
        "import numpy as np\n",
        "import matplotlib.pyplot as plt\n",
        "import pandas as pd"
      ],
      "execution_count": 0,
      "outputs": []
    },
    {
      "cell_type": "code",
      "metadata": {
        "id": "jqOaV6xVvqEC",
        "colab_type": "code",
        "colab": {
          "base_uri": "https://localhost:8080/",
          "height": 67
        },
        "outputId": "35555a92-3c55-48cd-c765-037040b9be48"
      },
      "source": [
        "# Compute mean of sales manually\n",
        "\n",
        "sales = np.array([3505,2400,3027,2798,3700,3250,2689])\n",
        "sales_sum = sales.sum()\n",
        "print(sales_sum)\n",
        "sales_mean = sales_sum/len(sales)\n",
        "print(sales_mean)\n",
        "print('Check work with np', np.mean(sales))"
      ],
      "execution_count": 8,
      "outputs": [
        {
          "output_type": "stream",
          "text": [
            "21369\n",
            "3052.714285714286\n",
            "Check work with np 3052.714285714286\n"
          ],
          "name": "stdout"
        }
      ]
    },
    {
      "cell_type": "code",
      "metadata": {
        "id": "CiIcIjlywbtH",
        "colab_type": "code",
        "colab": {
          "base_uri": "https://localhost:8080/",
          "height": 50
        },
        "outputId": "645bc19f-3874-46f3-ddca-d9b96ebee2ac"
      },
      "source": [
        "# Compute variance of sales manually\n",
        "\n",
        "def subract_mean(number):\n",
        "    return number-sales_mean\n",
        "\n",
        "# Converting to lambda for efficiency:\n",
        "\n",
        "lambda x: m-mean_sales\n",
        "\n",
        "# use 'map' to apply that function to list\n",
        "\n",
        "distances = list(map(subract_mean, sales))\n",
        "\n",
        "# square and sum all of the distances\n",
        "\n",
        "squared_distances = list(map(lambda x: x**2, distances))\n",
        "\n",
        "# Get length\n",
        "\n",
        "list_length = len(squared_distances) \n",
        "\n",
        "# calculate variance\n",
        "\n",
        "variance_sales = sum(squared_distances)/list_length\n",
        "print('{:.2f}'.format(variance_sales,3))\n",
        "\n",
        "print('Check work with np', np.var(sales))\n"
      ],
      "execution_count": 21,
      "outputs": [
        {
          "output_type": "stream",
          "text": [
            "183761.06\n",
            "Check work with np 183761.06122448976\n"
          ],
          "name": "stdout"
        }
      ]
    },
    {
      "cell_type": "code",
      "metadata": {
        "id": "tCUd8Dh-wccr",
        "colab_type": "code",
        "colab": {
          "base_uri": "https://localhost:8080/",
          "height": 50
        },
        "outputId": "de8006ec-3e55-4d07-886e-ab74ce66f0d7"
      },
      "source": [
        "# Compute standard deviation manually\n",
        "\n",
        "std_sales = math.sqrt(variance_sales)\n",
        "print('{:.2f}'.format(math.sqrt(variance_sales)))\n",
        "\n",
        "\n",
        "print('Check work with np:','{:.2f}'.format(np.std(sales)))\n"
      ],
      "execution_count": 30,
      "outputs": [
        {
          "output_type": "stream",
          "text": [
            "428.67\n",
            "Check work with np: 428.67\n"
          ],
          "name": "stdout"
        }
      ]
    },
    {
      "cell_type": "markdown",
      "metadata": {
        "id": "oh63KaOctEp_",
        "colab_type": "text"
      },
      "source": [
        "## 1.2 Find the covariance between last week's sales numbers and the number of customers that entered the store last week: [127, 80, 105, 92, 120, 115, 93] (you may use librray functions for calculating the covariance since we didn't specifically talk about its formula)"
      ]
    },
    {
      "cell_type": "code",
      "metadata": {
        "id": "G7ZB0krot564",
        "colab_type": "code",
        "colab": {
          "base_uri": "https://localhost:8080/",
          "height": 50
        },
        "outputId": "64cef097-155c-4de0-c4ec-4ccdd05d2492"
      },
      "source": [
        "customers = np.array([127,80,105,92,120,115,93])\n",
        "print(np.cov(sales, customers))"
      ],
      "execution_count": 27,
      "outputs": [
        {
          "output_type": "stream",
          "text": [
            "[[214387.9047619    7604.35714286]\n",
            " [  7604.35714286    290.95238095]]\n"
          ],
          "name": "stdout"
        }
      ]
    },
    {
      "cell_type": "markdown",
      "metadata": {
        "id": "J9SbUY9mt66I",
        "colab_type": "text"
      },
      "source": [
        "## 1.3 Find the standard deviation of customers who entered the store last week. Then, use the standard deviations of both sales and customers to standardize the covariance to find the correlation coefficient that summarizes the relationship between sales and customers. (You may use library functions to check your work.)"
      ]
    },
    {
      "cell_type": "code",
      "metadata": {
        "id": "vFJms2YRrKhY",
        "colab_type": "code",
        "colab": {
          "base_uri": "https://localhost:8080/",
          "height": 134
        },
        "outputId": "5996db33-e0ea-4d3c-91bf-e35c48f663d3"
      },
      "source": [
        "# Compute mean of customers manually\n",
        "\n",
        "customers = np.array([127,80,105,92,120,115,93])\n",
        "cust_sum = customers.sum()\n",
        "print(sales_sum)\n",
        "cust_mean = cust_sum/len(customers)\n",
        "print(cust_mean)\n",
        "print('Check work with np', np.mean(customers))\n",
        "# Compute variance of customers manually\n",
        "\n",
        "def subract_mean(number):\n",
        "    return number-cust_mean\n",
        "\n",
        "# Converting to lambda for efficiency:\n",
        "\n",
        "lambda x: m-cust_mean\n",
        "\n",
        "# use 'map' to apply that function to list\n",
        "\n",
        "distances = list(map(subract_mean, customers))\n",
        "\n",
        "# square and sum all of the distances\n",
        "\n",
        "squared_distances = list(map(lambda x: x**2, distances))\n",
        "\n",
        "# Get length\n",
        "\n",
        "list_length = len(squared_distances) \n",
        "\n",
        "# calculate variance\n",
        "\n",
        "variance_cust = sum(squared_distances)/list_length\n",
        "print('{:.2f}'.format(variance_cust,3))\n",
        "\n",
        "print('Check work with np', np.var(customers))\n",
        "\n",
        "print(np.corrcoef(sales, customers))"
      ],
      "execution_count": 34,
      "outputs": [
        {
          "output_type": "stream",
          "text": [
            "21369\n",
            "104.57142857142857\n",
            "Check work with np 104.57142857142857\n",
            "249.39\n",
            "Check work with np 249.3877551020408\n",
            "[[1.         0.96283398]\n",
            " [0.96283398 1.        ]]\n"
          ],
          "name": "stdout"
        }
      ]
    },
    {
      "cell_type": "markdown",
      "metadata": {
        "id": "IbZVf7nmujPJ",
        "colab_type": "text"
      },
      "source": [
        "## 1.4 Use pandas to import a cleaned version of the titanic dataset from the following link: [Titanic Dataset](https://raw.githubusercontent.com/Geoyi/Cleaning-Titanic-Data/master/titanic_clean.csv)\n",
        "\n",
        "## Calculate the variance-covariance matrix and correlation matrix for the titanic dataset's numeric columns. (you can encode some of the categorical variables and include them as a stretch goal if you finish early)"
      ]
    },
    {
      "cell_type": "markdown",
      "metadata": {
        "id": "C6-rCvf6IdMv",
        "colab_type": "text"
      },
      "source": [
        "Index(['pclass', 'survived', 'name', 'sex', 'age', 'sibsp', 'parch', 'boat',\n",
        "       'body'],"
      ]
    },
    {
      "cell_type": "code",
      "metadata": {
        "id": "0TWgUIiaCFzq",
        "colab_type": "code",
        "colab": {}
      },
      "source": [
        "url = 'https://raw.githubusercontent.com/Geoyi/Cleaning-Titanic-Data/master/titanic_clean.csv'\n",
        "\n",
        "df = pd.read_csv(url)\n",
        "df.head()\n"
      ],
      "execution_count": 0,
      "outputs": []
    },
    {
      "cell_type": "code",
      "metadata": {
        "id": "hpB5zh-f89GI",
        "colab_type": "code",
        "colab": {
          "base_uri": "https://localhost:8080/",
          "height": 235
        },
        "outputId": "efdc4dc2-7b03-4368-ef63-cefb5cde4e73"
      },
      "source": [
        "#@title Default title text { run: \"auto\" }\n",
        "x = \"pclass\" #@param [\"pclass\", \"survived\", \"sex\", \"age\", \"sibsp\", \"parch\", \"boat\"]\n",
        "\n",
        "print('is null sum',df[x].isnull().sum())\n",
        "print(df[x].value_counts())\n",
        "\n",
        "\n"
      ],
      "execution_count": 101,
      "outputs": [
        {
          "output_type": "stream",
          "text": [
            "is null sum 1188\n",
            "259.0    1\n",
            "305.0    1\n",
            "51.0     1\n",
            "68.0     1\n",
            "47.0     1\n",
            "        ..\n",
            "97.0     1\n",
            "197.0    1\n",
            "130.0    1\n",
            "75.0     1\n",
            "135.0    1\n",
            "Name: body, Length: 121, dtype: int64\n"
          ],
          "name": "stdout"
        }
      ]
    },
    {
      "cell_type": "code",
      "metadata": {
        "id": "DA8UjHn689KH",
        "colab_type": "code",
        "colab": {}
      },
      "source": [
        "df1.columns\n",
        "df1.drop(['Unnamed: 0','ticket','fare','cabin','embarked','home.dest','has_cabin_number'],axis=1, inplace=True)\n",
        "df1.drop(['body'], axis=1,inplace=True)\n",
        "df1.drop(['pclass'], axis=1,inplace=True)\n"
      ],
      "execution_count": 0,
      "outputs": []
    },
    {
      "cell_type": "code",
      "metadata": {
        "id": "thBaoujvJTTD",
        "colab_type": "code",
        "colab": {
          "base_uri": "https://localhost:8080/",
          "height": 272
        },
        "outputId": "721c4044-230f-4478-b340-1f1e5c780b63"
      },
      "source": [
        "df1.cov\n"
      ],
      "execution_count": 106,
      "outputs": [
        {
          "output_type": "execute_result",
          "data": {
            "text/plain": [
              "<bound method DataFrame.cov of       survived                                             name  ...  parch  boat\n",
              "0          1.0                    Allen, Miss. Elisabeth Walton  ...    0.0     2\n",
              "1          1.0                   Allison, Master. Hudson Trevor  ...    2.0    11\n",
              "2          0.0                     Allison, Miss. Helen Loraine  ...    2.0   NaN\n",
              "3          0.0             Allison, Mr. Hudson Joshua Creighton  ...    2.0   NaN\n",
              "4          0.0  Allison, Mrs. Hudson J C (Bessie Waldo Daniels)  ...    2.0   NaN\n",
              "...        ...                                              ...  ...    ...   ...\n",
              "1304       0.0                             Zabour, Miss. Hileni  ...    0.0   NaN\n",
              "1305       0.0                            Zabour, Miss. Thamine  ...    0.0   NaN\n",
              "1306       0.0                        Zakarian, Mr. Mapriededer  ...    0.0   NaN\n",
              "1307       0.0                              Zakarian, Mr. Ortin  ...    0.0   NaN\n",
              "1308       0.0                               Zimmerman, Mr. Leo  ...    0.0   NaN\n",
              "\n",
              "[1309 rows x 7 columns]>"
            ]
          },
          "metadata": {
            "tags": []
          },
          "execution_count": 106
        }
      ]
    },
    {
      "cell_type": "markdown",
      "metadata": {
        "id": "e7yveaYs8bZC",
        "colab_type": "text"
      },
      "source": [
        "In my opinion, there are not any real numeric columns in this dataset.  Age is more of a category.  Ticket price isn't very helpful \n"
      ]
    },
    {
      "cell_type": "markdown",
      "metadata": {
        "id": "7K0Xfh8MvYkl",
        "colab_type": "text"
      },
      "source": [
        "# Orthogonality"
      ]
    },
    {
      "cell_type": "markdown",
      "metadata": {
        "id": "Pe3eOZ2fvdZ-",
        "colab_type": "text"
      },
      "source": [
        "## 2.1 Plot two vectors that are orthogonal to each other. What is a synonym for orthogonal?"
      ]
    },
    {
      "cell_type": "code",
      "metadata": {
        "id": "YLSBk7hJvvCx",
        "colab_type": "code",
        "colab": {
          "base_uri": "https://localhost:8080/",
          "height": 302
        },
        "outputId": "db4806ea-7c27-4c72-a6c0-65fd1df48c81"
      },
      "source": [
        "a1 = np.array([0,4])\n",
        "a2 = np.array([4,0])\n",
        "\n",
        "fix, ax = plt.subplots()\n",
        "ax.grid()\n",
        "plt.xlim(-0.5,5)\n",
        "plt.ylim(-0.5,5)\n",
        "plt.arrow(0,0,\n",
        "          a1[0],a1[1],\n",
        "          head_width=0.02,\n",
        "          head_length=0.02,\n",
        "          linewidth=3,\n",
        "          color = 'blue')\n",
        "plt.arrow(0,0,\n",
        "          a2[0],a2[1],\n",
        "          head_width=0.02,\n",
        "          head_length=0.02,\n",
        "          linewidth=3,\n",
        "          color='red')\n",
        "plt.show()\n",
        "\n",
        "print('Orthogonal vectors are perpendicular and have a dot product of 0')\n",
        "print(np.dot(a1,a2))"
      ],
      "execution_count": 110,
      "outputs": [
        {
          "output_type": "display_data",
          "data": {
            "image/png": "[encoded data removed]",
            "text/plain": [
              "<Figure size 432x288 with 1 Axes>"
            ]
          },
          "metadata": {
            "tags": [],
            "needs_background": "light"
          }
        },
        {
          "output_type": "stream",
          "text": [
            "Orthogonal vectors are perpendicular\n",
            "0\n"
          ],
          "name": "stdout"
        }
      ]
    },
    {
      "cell_type": "markdown",
      "metadata": {
        "id": "7AS4V1Nhvvxz",
        "colab_type": "text"
      },
      "source": [
        "## 2.2 Are the following vectors orthogonal? Why or why not?\n",
        "\n",
        "\\begin{align}\n",
        "a = \\begin{bmatrix} -5 \\\\ 3 \\\\ 7 \\end{bmatrix}\n",
        "\\qquad\n",
        "b = \\begin{bmatrix} 6 \\\\ -8 \\\\ 2 \\end{bmatrix}\n",
        "\\end{align}"
      ]
    },
    {
      "cell_type": "code",
      "metadata": {
        "id": "F_-y54YSz47k",
        "colab_type": "code",
        "colab": {
          "base_uri": "https://localhost:8080/",
          "height": 34
        },
        "outputId": "279ece60-05ef-48de-881d-2011bde7cdb1"
      },
      "source": [
        "a= np.array([-5,3,7])\n",
        "b = np.array([6,-8,2])\n",
        "\n",
        "print(np.dot(a,b))\n",
        "print(a and b are not orthogonal because their dot product is not zero)"
      ],
      "execution_count": 111,
      "outputs": [
        {
          "output_type": "stream",
          "text": [
            "-40\n"
          ],
          "name": "stdout"
        }
      ]
    },
    {
      "cell_type": "markdown",
      "metadata": {
        "id": "MiNjyqiEz5SG",
        "colab_type": "text"
      },
      "source": [
        "## 2.3 Compute the following values: What do these quantities have in common?\n",
        "\n",
        "## What is $||c||^2$? \n",
        "\n",
        "## What is $c \\cdot c$? \n",
        "\n",
        "## What is $c^{T}c$?\n",
        "\n",
        "\\begin{align}\n",
        "c = \\begin{bmatrix} 2 & -15 & 6 & 20 \\end{bmatrix}\n",
        "\\end{align}"
      ]
    },
    {
      "cell_type": "code",
      "metadata": {
        "id": "IlV_uaYK1EQB",
        "colab_type": "code",
        "colab": {
          "base_uri": "https://localhost:8080/",
          "height": 151
        },
        "outputId": "b2d2dc22-e531-419d-96ef-7e00af9c800d"
      },
      "source": [
        "c = np.array([2,-15,6,20])\n",
        "print(c)\n",
        "print('The square of the normalizied array c is:')\n",
        "print((np.linalg.norm(c))**2)\n",
        "\n",
        "print('The dot product of c and c is :')\n",
        "print(np.dot(c,c))\n",
        "\n",
        "print(\"the product of Transposed c and c is :\")\n",
        "print(np.matmul(c.T,c))\n",
        "print(\"all products equal 665\")"
      ],
      "execution_count": 120,
      "outputs": [
        {
          "output_type": "stream",
          "text": [
            "[  2 -15   6  20]\n",
            "The square of the normalizied array c is:\n",
            "665.0\n",
            "The dot product of c and c is :\n",
            "665\n",
            "the product of Transposed c and c is :\n",
            "665\n",
            "all products equal 665\n"
          ],
          "name": "stdout"
        }
      ]
    },
    {
      "cell_type": "markdown",
      "metadata": {
        "id": "MK_TpWqk1Evk",
        "colab_type": "text"
      },
      "source": [
        "# Unit Vectors"
      ]
    },
    {
      "cell_type": "markdown",
      "metadata": {
        "id": "Kpit6WWO1b8l",
        "colab_type": "text"
      },
      "source": [
        "## 3.1 Using Latex, write the following vectors as a linear combination of scalars and unit vectors:\n",
        "\n",
        "\\begin{align}\n",
        "d = \\begin{bmatrix} 7 \\\\ 12 \\end{bmatrix}\n",
        "\\qquad\n",
        "e = \\begin{bmatrix} 2 \\\\ 11 \\\\ -8  \\end{bmatrix}\n",
        "\\end{align}"
      ]
    },
    {
      "cell_type": "markdown",
      "metadata": {
        "id": "oBCj1sDW2ouC",
        "colab_type": "text"
      },
      "source": [
        "\\begin{align}\n",
        "d = \\begin{bmatrix} 7 \\\\ 12 \\end{bmatrix} = 7\\begin{bmatrix} 1 \\\\ 0 \\end{bmatrix} + 12\\begin{bmatrix} 0 \\\\ 1 \\end{bmatrix} = 7\\hat{i} + 12\\hat{j}\n",
        "\\end{align}\n",
        "\n",
        "\\begin{align}\n",
        "e = \\begin{bmatrix} 2 \\\\ 11 \\\\ -8 \\end{bmatrix} = 2\\begin{bmatrix} 1 \\\\ 0 \\\\ 0 \\end{bmatrix} + 11\\begin{bmatrix} 0 \\\\ 1 \\\\ 0\\end{bmatrix}  -8\\begin{bmatrix} 0 \\\\ 0 \\\\ 1\\end{bmatrix}= 2\\hat{i} + 11\\hat{j} -8\\hat{k}\n",
        "\\end{align}\n",
        "Your text here"
      ]
    },
    {
      "cell_type": "markdown",
      "metadata": {
        "id": "dAdUQuep1_yJ",
        "colab_type": "text"
      },
      "source": [
        "## 3.2 Turn vector $f$ into a unit vector:\n",
        "\n",
        "\\begin{align}\n",
        "f = \\begin{bmatrix} 4 & 12 & 11 & 9 & 2 \\end{bmatrix}\n",
        "\\end{align}"
      ]
    },
    {
      "cell_type": "code",
      "metadata": {
        "id": "I3W8ZiHR1_Fa",
        "colab_type": "code",
        "colab": {
          "base_uri": "https://localhost:8080/",
          "height": 101
        },
        "outputId": "672788d5-b6ff-4d2b-ffa3-f4937dd6ae72"
      },
      "source": [
        "print('The squares are:')\n",
        "print(4**2,'+',12**2,'+',11**2,'+',9**2,'+',2**2)\n",
        "print('The sum of the squares is :', 16 + 144 + 121 + 81 + 4)\n",
        "print('The square root of 366 is :', np.sqrt(366))\n",
        "\n",
        "f=[4,12,11,9,2]\n",
        "f_hat = f/np.linalg.norm(f)\n",
        "f_hat"
      ],
      "execution_count": 122,
      "outputs": [
        {
          "output_type": "stream",
          "text": [
            "The squares are:\n",
            "16 + 144 + 121 + 81 + 4\n",
            "The sum of the squares is : 366\n",
            "The square root of 366 is : 19.131126469708992\n"
          ],
          "name": "stdout"
        },
        {
          "output_type": "execute_result",
          "data": {
            "text/plain": [
              "array([0.20908335, 0.62725005, 0.57497921, 0.47043754, 0.10454167])"
            ]
          },
          "metadata": {
            "tags": []
          },
          "execution_count": 122
        }
      ]
    },
    {
      "cell_type": "markdown",
      "metadata": {
        "id": "o39UyP-I5lpP",
        "colab_type": "text"
      },
      "source": [
        "# Linear Independence / Dependence "
      ]
    },
    {
      "cell_type": "markdown",
      "metadata": {
        "id": "ajfBqYe45sT5",
        "colab_type": "text"
      },
      "source": [
        "## 4.1 Plot two vectors that are linearly dependent and two vectors that are linearly independent (bonus points if done in $\\mathbb{R}^3$)."
      ]
    },
    {
      "cell_type": "code",
      "metadata": {
        "id": "7-yJfkw7QI2O",
        "colab_type": "code",
        "colab": {
          "base_uri": "https://localhost:8080/",
          "height": 281
        },
        "outputId": "cccb86c9-c825-4ba3-c556-458d72aa2b46"
      },
      "source": [
        "# Linearly dependent vectors:\n",
        "a1 = np.array([1.5,3])\n",
        "a2 = np.array([2,4])\n",
        "\n",
        "fix, ax = plt.subplots()\n",
        "ax.grid()\n",
        "plt.xlim(-0.5,5)\n",
        "plt.ylim(-0.5,5)\n",
        "plt.arrow(0,0,\n",
        "          a1[0],a1[1],\n",
        "          head_width=0.1,\n",
        "          head_length=0.2,\n",
        "          linewidth=6,\n",
        "          color = 'blue')\n",
        "plt.arrow(0,0,\n",
        "          a2[0],a2[1],\n",
        "          head_width=0.02,\n",
        "          head_length=0.02,\n",
        "          linewidth=3,\n",
        "          color='red')\n",
        "plt.title(\"Linearly Dependent Vectors\")\n",
        "plt.show()"
      ],
      "execution_count": 131,
      "outputs": [
        {
          "output_type": "display_data",
          "data": {
            "image/png": "[encoded data removed]",
            "text/plain": [
              "<Figure size 432x288 with 1 Axes>"
            ]
          },
          "metadata": {
            "tags": [],
            "needs_background": "light"
          }
        }
      ]
    },
    {
      "cell_type": "code",
      "metadata": {
        "id": "-BbmsMQEQs2X",
        "colab_type": "code",
        "colab": {
          "base_uri": "https://localhost:8080/",
          "height": 281
        },
        "outputId": "248a1f01-7805-40ca-9463-852193cf1992"
      },
      "source": [
        "# Linearly independent vectors:\n",
        "a1 = np.array([3,4])\n",
        "a2 = np.array([1,3])\n",
        "\n",
        "fix, ax = plt.subplots()\n",
        "ax.grid()\n",
        "plt.xlim(-0.5,5)\n",
        "plt.ylim(-0.5,5)\n",
        "plt.arrow(0,0,\n",
        "          a1[0],a1[1],\n",
        "          head_width=0.1,\n",
        "          head_length=0.2,\n",
        "          linewidth=6,\n",
        "          color = 'blue')\n",
        "plt.arrow(0,0,\n",
        "          a2[0],a2[1],\n",
        "          head_width=0.1,\n",
        "          head_length=0.2,\n",
        "          linewidth=6,          color='red')\n",
        "plt.title(\"Linearly Dependent Vectors\")\n",
        "plt.show()"
      ],
      "execution_count": 135,
      "outputs": [
        {
          "output_type": "display_data",
          "data": {
            "image/png": "[encoded data removed]",
            "text/plain": [
              "<Figure size 432x288 with 1 Axes>"
            ]
          },
          "metadata": {
            "tags": [],
            "needs_background": "light"
          }
        }
      ]
    },
    {
      "cell_type": "markdown",
      "metadata": {
        "id": "TrJ0MT_n3SvO",
        "colab_type": "text"
      },
      "source": [
        "# Span"
      ]
    },
    {
      "cell_type": "markdown",
      "metadata": {
        "id": "86iXLzwM2z8l",
        "colab_type": "text"
      },
      "source": [
        "## 5.1 What is the span of the following vectors?\n",
        "\n",
        "\\begin{align}\n",
        "g = \\begin{bmatrix} 1 & 2 \\end{bmatrix}\n",
        "\\qquad\n",
        "h = \\begin{bmatrix} 4 & 8 \\end{bmatrix}\n",
        "\\end{align}"
      ]
    },
    {
      "cell_type": "code",
      "metadata": {
        "id": "G2LK2RWL39Q4",
        "colab_type": "code",
        "colab": {}
      },
      "source": [
        ""
      ],
      "execution_count": 0,
      "outputs": []
    },
    {
      "cell_type": "markdown",
      "metadata": {
        "id": "l1deylUj4IHH",
        "colab_type": "text"
      },
      "source": [
        "## 5.2 What is the span of $\\{l, m, n\\}$?\n",
        "\n",
        "\\begin{align}\n",
        "l = \\begin{bmatrix} 1 & 2 & 3 \\end{bmatrix}\n",
        "\\qquad\n",
        "m = \\begin{bmatrix} -1 & 0 & 7 \\end{bmatrix}\n",
        "\\qquad\n",
        "n = \\begin{bmatrix} 4 & 8  & 2\\end{bmatrix}\n",
        "\\end{align}"
      ]
    },
    {
      "cell_type": "markdown",
      "metadata": {
        "id": "yqL8MPBiS5Xr",
        "colab_type": "text"
      },
      "source": [
        "The span of l, m, n is the entire span of the 3D space."
      ]
    },
    {
      "cell_type": "markdown",
      "metadata": {
        "id": "IBqe7X1732kX",
        "colab_type": "text"
      },
      "source": [
        "# Basis"
      ]
    },
    {
      "cell_type": "markdown",
      "metadata": {
        "id": "YeUZVHRM6PpT",
        "colab_type": "text"
      },
      "source": [
        "## 6.1 Graph two vectors that form a basis for $\\mathbb{R}^2$\n",
        "\n"
      ]
    },
    {
      "cell_type": "code",
      "metadata": {
        "id": "utvF3Pkt8NP6",
        "colab_type": "code",
        "colab": {
          "base_uri": "https://localhost:8080/",
          "height": 281
        },
        "outputId": "aee70cc0-abed-4aa6-b6ac-0c89dced549f"
      },
      "source": [
        "# Two vectors that form a basis for R^2\n",
        "a1 = np.array([3,4])\n",
        "a2 = np.array([1,3])\n",
        "\n",
        "fix, ax = plt.subplots()\n",
        "ax.grid()\n",
        "plt.xlim(-0.5,5)\n",
        "plt.ylim(-0.5,5)\n",
        "plt.arrow(0,0,\n",
        "          a1[0],a1[1],\n",
        "          head_width=0.1,\n",
        "          head_length=0.2,\n",
        "          linewidth=6,\n",
        "          color = 'blue')\n",
        "plt.arrow(0,0,\n",
        "          a2[0],a2[1],\n",
        "          head_width=0.1,\n",
        "          head_length=0.2,\n",
        "          linewidth=6,          color='red')\n",
        "plt.title(\"Two vectors that forma basis for R^2\")\n",
        "plt.show()"
      ],
      "execution_count": 136,
      "outputs": [
        {
          "output_type": "display_data",
          "data": {
            "image/png": "[encoded data removed]",
            "text/plain": [
              "<Figure size 432x288 with 1 Axes>"
            ]
          },
          "metadata": {
            "tags": [],
            "needs_background": "light"
          }
        }
      ]
    },
    {
      "cell_type": "markdown",
      "metadata": {
        "id": "20yPFBDUxxnS",
        "colab_type": "text"
      },
      "source": [
        "## 6.2 What does it mean to form a basis?"
      ]
    },
    {
      "cell_type": "markdown",
      "metadata": {
        "id": "3w4tEayT8M0o",
        "colab_type": "text"
      },
      "source": [
        "A basis is a set of vectors that generates all elements of the vector space and the vectors in the set are linearly independent. ... They all will have something in common: they can be write as a linear combination of some set of vectors that lies in the space. The set of vectors are called the base of the vector space.\n"
      ]
    },
    {
      "cell_type": "markdown",
      "metadata": {
        "id": "EHmUxbcY6vD3",
        "colab_type": "text"
      },
      "source": [
        "# Rank"
      ]
    },
    {
      "cell_type": "markdown",
      "metadata": {
        "id": "IpJwt9kw6v8U",
        "colab_type": "text"
      },
      "source": [
        "## 7.1 What is the Rank of P?\n",
        "\n",
        "\\begin{align}\n",
        "P = \\begin{bmatrix} \n",
        "1 & 2 & 3 \\\\\n",
        " -1 & 0 & 7 \\\\\n",
        "4 & 8  & 2\n",
        "\\end{bmatrix}\n",
        "\\end{align}"
      ]
    },
    {
      "cell_type": "code",
      "metadata": {
        "id": "xM5Lp2vET7ch",
        "colab_type": "code",
        "colab": {
          "base_uri": "https://localhost:8080/",
          "height": 437
        },
        "outputId": "7f4aa61a-d81c-4fff-d063-d65174978d30"
      },
      "source": [
        "P = pd.DataFrame({\"A1\":[1,-1,4],\"A2\":[2,0,8],\"A3\":[3,7,2]})\n",
        "print(P)\n",
        "print(\"Multiply 1st row by -1\")\n",
        "pT = P.T\n",
        "pT[0] = pT[0]*-1\n",
        "print(pT)\n",
        "print('Subtract 1st row from 2nd row and restore 1st row')\n",
        "pT[1] = pT[1]-pT[0]\n",
        "pT[0] = pT[0]*-1\n",
        "print(pT)\n",
        "print('Multiply first row by 4')\n",
        "pT[0]=pT[0]*4\n",
        "print(pT)\n",
        "print('Subtract 1st row from 3 row and restore it')\n",
        "pT[2] = pT[2]-pT[0]\n",
        "pT[0] = pT[0]/4\n",
        "P = pT.T\n",
        "print(P)\n",
        "print('The rank of P is 3')"
      ],
      "execution_count": 137,
      "outputs": [
        {
          "output_type": "stream",
          "text": [
            "   A1  A2  A3\n",
            "0   1   2   3\n",
            "1  -1   0   7\n",
            "2   4   8   2\n",
            "Multiply 1st row by -1\n",
            "    0  1  2\n",
            "A1 -1 -1  4\n",
            "A2 -2  0  8\n",
            "A3 -3  7  2\n",
            "Subtract 1st row from 2nd row and restore 1st row\n",
            "    0   1  2\n",
            "A1  1   0  4\n",
            "A2  2   2  8\n",
            "A3  3  10  2\n",
            "Multiply first row by 4\n",
            "     0   1  2\n",
            "A1   4   0  4\n",
            "A2   8   2  8\n",
            "A3  12  10  2\n",
            "Subtract 1st row from 3 row and restore it\n",
            "    A1   A2    A3\n",
            "0  1.0  2.0   3.0\n",
            "1  0.0  2.0  10.0\n",
            "2  0.0  0.0 -10.0\n",
            "The rank of P is 3\n"
          ],
          "name": "stdout"
        }
      ]
    },
    {
      "cell_type": "markdown",
      "metadata": {
        "id": "jGqFMBYY7mHD",
        "colab_type": "text"
      },
      "source": [
        "## 7.2 What does the rank of a matrix tell us?"
      ]
    },
    {
      "cell_type": "markdown",
      "metadata": {
        "id": "Vjg1IiCD8nnP",
        "colab_type": "text"
      },
      "source": [
        "The rank tells us how many linearly independent rows are contained in the matrix.  Because our matix P did not have any dependent rows, that is none could be reduced to all zeros, it has a rank of 3."
      ]
    },
    {
      "cell_type": "markdown",
      "metadata": {
        "id": "0Db2sc_V8QD6",
        "colab_type": "text"
      },
      "source": [
        "# Linear Projections\n",
        "\n",
        "## 8.1 Line $L$ is formed by all of the vectors that can be created by scaling vector $v$ \n",
        "\\begin{align}\n",
        "v = \\begin{bmatrix} 1 & 3 \\end{bmatrix}\n",
        "\\end{align}\n",
        "\n",
        "\\begin{align}\n",
        "w = \\begin{bmatrix} -1 & 2 \\end{bmatrix}\n",
        "\\end{align}\n",
        "\n",
        "## find $proj_{L}(w)$\n",
        "\n",
        "## graph your projected vector to check your work (make sure your axis are square/even)"
      ]
    },
    {
      "cell_type": "code",
      "metadata": {
        "id": "hp5z2WTBCNKx",
        "colab_type": "code",
        "colab": {
          "base_uri": "https://localhost:8080/",
          "height": 332
        },
        "outputId": "6b66e5e9-c493-4c1c-922e-42106a9ccc62"
      },
      "source": [
        "# Original vectors\n",
        "v = np.array([1,3])\n",
        "w = np.array([-1,2])\n",
        "print(v)\n",
        "print(w)\n",
        "\n",
        "# Dot product\n",
        "\n",
        "w_dot_v = np.dot(v,w)\n",
        "v_dot_v = np.dot(v,v)\n",
        "\n",
        "# projection\n",
        "\n",
        "fraction = w_dot_v/v_dot_v\n",
        "projection = np.multiply(fraction,v)\n",
        "print(projection)\n",
        "\n",
        "# Plot a line\n",
        "\n",
        "fix, ax = plt.subplots()\n",
        "ax.grid()\n",
        "plt.xlim(-1,4)\n",
        "plt.ylim(-1,4)\n",
        "axes = plt.gca()\n",
        "\n",
        "# Get Vals for L\n",
        "\n",
        "x_vals = np.array(axes.get_xlim())\n",
        "y_vals = 3*x_vals\n",
        "\n",
        "# Axis Bounds\n",
        "\n",
        "plt.xlim(-2,4)\n",
        "plt.ylim(-2,4)\n",
        "\n",
        "# Set axes\n",
        "\n",
        "axes = plt.gca()\n",
        "plt.axes().set_aspect('equal')\n",
        "\n",
        "# Plot Vectors and L\n",
        "\n",
        "plt.plot(x_vals, y_vals,  '--', color = 'b', linewidth = 1)"
      ],
      "execution_count": 145,
      "outputs": [
        {
          "output_type": "stream",
          "text": [
            "[1 3]\n",
            "[-1  2]\n",
            "[0.5 1.5]\n"
          ],
          "name": "stdout"
        },
        {
          "output_type": "execute_result",
          "data": {
            "text/plain": [
              "[<matplotlib.lines.Line2D at 0x7f462f350f98>]"
            ]
          },
          "metadata": {
            "tags": []
          },
          "execution_count": 145
        },
        {
          "output_type": "display_data",
          "data": {
            "image/png": "[encoded data removed]",
            "text/plain": [
              "<Figure size 432x288 with 1 Axes>"
            ]
          },
          "metadata": {
            "tags": [],
            "needs_background": "light"
          }
        }
      ]
    },
    {
      "cell_type": "markdown",
      "metadata": {
        "id": "TKkrPwRM-Oar",
        "colab_type": "text"
      },
      "source": [
        "# Stretch Goal\n",
        "\n",
        "## For vectors that begin at the origin, the coordinates of where the vector ends can be interpreted as regular data points. (See 3Blue1Brown videos about Spans, Basis, etc.)\n",
        "\n",
        "## Write a function that can calculate the linear projection of each point (x,y) (vector) onto the line y=x. run the function and plot the original points in blue and the new projected points on the line y=x in red. \n",
        "\n",
        "## For extra points plot the orthogonal vectors as a dashed line from the original blue points to the projected red points."
      ]
    },
    {
      "cell_type": "code",
      "metadata": {
        "id": "cp52kZra-ykj",
        "colab_type": "code",
        "outputId": "12502200-eafe-4e20-bfb7-2d539c6027cb",
        "colab": {
          "base_uri": "https://localhost:8080/",
          "height": 347
        }
      },
      "source": [
        "import pandas as pd\n",
        "import matplotlib.pyplot as plt\n",
        "\n",
        "# Creating a dataframe for you to work with -Feel free to not use the dataframe if you don't want to.\n",
        "x_values = [1, 4, 7, 3, 9, 4, 5 ]\n",
        "y_values = [4, 2, 5, 0, 8, 2, 8]\n",
        "\n",
        "data = {\"x\": x_values, \"y\": y_values}\n",
        "\n",
        "df = pd.DataFrame(data)\n",
        "\n",
        "df.head()\n",
        "\n",
        "plt.scatter(df.x, df.y)\n",
        "plt.show()"
      ],
      "execution_count": 0,
      "outputs": [
        {
          "output_type": "display_data",
          "data": {
            "image/png": "[encoded data removed]",
            "text/plain": [
              "<matplotlib.figure.Figure at 0x7f787cfb2978>"
            ]
          },
          "metadata": {
            "tags": []
          }
        }
      ]
    },
    {
      "cell_type": "code",
      "metadata": {
        "id": "EZTA6Tj6BGDb",
        "colab_type": "code",
        "colab": {}
      },
      "source": [
        ""
      ],
      "execution_count": 0,
      "outputs": []
    }
  ]
}